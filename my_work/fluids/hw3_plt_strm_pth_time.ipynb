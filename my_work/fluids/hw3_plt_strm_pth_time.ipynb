{
 "cells": [
  {
   "cell_type": "code",
   "execution_count": 1,
   "metadata": {
    "collapsed": false
   },
   "outputs": [],
   "source": [
    "import numpy as np\n",
    "import matplotlib.pyplot as plt\n",
    "\n",
    "Y, X = np.mgrid[-3:3:100j, -3:3:100j]\n",
    "uo1=1\n",
    "uo2=1\n",
    "w=1\n",
    "t=0\n",
    "t1=np.pi/4\n",
    "U=uo1*np.cos(w*t)*X\n",
    "V=-uo2*np.cos(w*t)*Y\n",
    "U1=uo1*np.cos(w*t1)*X\n",
    "V1=-uo2*np.cos(w*t1)*Y\n",
    "speed = np.sqrt(U*U + V*V)\n",
    "\n",
    "plt.streamplot(X, Y, U, V, color=U, linewidth=2, cmap=plt.cm.autumn)\n",
    "plt.colorbar()\n",
    "\n",
    "f, (ax1, ax2) = plt.subplots(ncols=2)\n",
    "ax1.streamplot(X, Y, U, V, density=[0.5, 1])\n",
    "\n",
    "lw = 5*speed/speed.max()\n",
    "ax2.streamplot(X, Y, U1, V1, density=0.6, color='k', linewidth=lw)\n",
    "\n",
    "plt.show()"
   ]
  },
  {
   "cell_type": "code",
   "execution_count": 2,
   "metadata": {
    "collapsed": false
   },
   "outputs": [],
   "source": [
    "from pylab import *\n",
    "from numpy import ma\n",
    "\n",
    "#X2,Y2 = np.mgrid[-3:3:100j, -3:3:100j]    #meshgrid( arange(0,2*pi,.2),arange(0,2*pi,.2) )\n",
    "#U2 = 0.5*uo1*np.cos(w*t)*X2**2\n",
    "#V2 = 0.5*uo2*np.cos(w*t)*Y2**2\n",
    "#U21 = 0.5*uo1*np.cos(w*t1)*X2**2\n",
    "#V21 = 0.5*uo2*np.cos(w*t1)*Y2**2\n",
    "\n",
    "#1\n",
    "#figure()\n",
    "#Q = quiver( U, V)\n",
    "#qk = quiverkey(Q, 0.5, 0.92, 2, r'$2 \\frac{m}{s}$', labelpos='W',\n",
    "#               fontproperties={'weight': 'bold'})\n",
    "#l,r,b,t = axis()\n",
    "#dx, dy = r-l, t-b\n",
    "#axis([l-0.05*dx, r+0.05*dx, b-0.05*dy, t+0.05*dy])\n",
    "#title('Minimal arguments, no kwargs')\n",
    "\n",
    "#2\n",
    "#figure()\n",
    "#Q = quiver( X2, Y2, U2, V2, units='width')\n",
    "#qk = quiverkey(Q, 0.9, 0.95, 2, r'$2 \\frac{m}{s}$',\n",
    "#               labelpos='E',\n",
    "#               coordinates='figure',\n",
    "#               fontproperties={'weight': 'bold'})\n",
    "#axis([-0.5, 0.5, -0.5, 0.5])\n",
    "#title('scales with plot width, not view')\n",
    "\n",
    "#3\n",
    "#figure()\n",
    "#Q = quiver( X[::3, ::3], Y[::3, ::3], U[::3, ::3], V[::3, ::3],\n",
    "#            pivot='mid', color='r', units='inches' )\n",
    "#qk = quiverkey(Q, 0.5, 0.03, 1, r'$1 \\frac{m}{s}$', fontproperties={'weight': 'bold'})\n",
    "#plot( X[::3, ::3], Y[::3, ::3], 'k.')\n",
    "#axis([-1, 7, -1, 7])\n",
    "#title(\"pivot='mid'; every third arrow; units='inches'\")\n",
    "\n",
    "#4\n",
    "#figure()\n",
    "#M = sqrt(pow(U, 2) + pow(V, 2))\n",
    "#Q = quiver( X, Y, U, V, M, units='x', pivot='tip', width=0.022, scale=1/0.15)\n",
    "#qk = quiverkey(Q, 0.9, 1.05, 1, r'$1 \\frac{m}{s}$',\n",
    "#                            labelpos='E',\n",
    "#                            fontproperties={'weight': 'bold'})\n",
    "#plot(X, Y, 'k.')\n",
    "#axis([-1, 7, -1, 7])\n",
    "#title(\"scales with x view; pivot='tip'\")\n",
    "\n",
    "#5\n",
    "#figure()\n",
    "#Q = quiver( X2[::3, ::3], Y2[::3, ::3], U2[::3, ::3], V2[::3, ::3],\n",
    "#Q = quiver( X2, Y2, U2, V2,color='r', units='x',linewidths=(2,), edgecolors=('k'), headaxislength=50)\n",
    "#qk = quiverkey(Q, 0.5, 0.03, 1, r'$1 \\frac{m}{s}$', fontproperties={'weight': 'bold'})\n",
    "#axis([-0.5, 0.5, -0.5, 0.5])\n",
    "#title(\"triangular head; scale with x view; black edges\")\n",
    "\n",
    "#6\n",
    "#figure()\n",
    "#M = zeros(U.shape, dtype='bool')\n",
    "#M[U.shape[0]/3:2*U.shape[0]/3,U.shape[1]/3:2*U.shape[1]/3] = True\n",
    "#U = ma.masked_array(U, mask=M)\n",
    "#V = ma.masked_array(V, mask=M)\n",
    "#Q = quiver( U, V)\n",
    "#qk = quiverkey(Q, 0.5, 0.92, 2, r'$2 \\frac{m}{s}$', labelpos='W',\n",
    "#               fontproperties={'weight': 'bold'})\n",
    "#l,r,b,t = axis()\n",
    "#dx, dy = r-l, t-b\n",
    "#axis([l-0.05*dx, r+0.05*dx, b-0.05*dy, t+0.05*dy])\n",
    "#title('Minimal arguments, no kwargs - masked values')\n",
    "\n",
    "#show()"
   ]
  },
  {
   "cell_type": "code",
   "execution_count": null,
   "metadata": {
    "collapsed": false
   },
   "outputs": [],
   "source": [
    "Ypsi,Xpsi = np.mgrid[-2:2:15j, -2:2:15j]\n",
    "widths=np.linspace(0,2,Xpsi.size)\n",
    "psiX= 0.5*uo1*np.cos(w*t)*Xpsi**2\n",
    "psiY= 0.5*uo2*np.cos(w*t)*Ypsi**2\n",
    "psiX1= 0.5*uo1*np.cos(w*t1)*Xpsi**2\n",
    "psiX2= 0.5*uo2*np.cos(w*t1)*Ypsi**2\n",
    "psi=psiX+psiY\n",
    "figure()\n",
    "q = plt.quiver(Xpsi,Ypsi,psiX,psiY,linewidths=widths) #angles='xy',scale=1000,color='r')\n",
    "#p = plt.quiverkey(q,1,16.5,50,\"_\",coordinates='data',color='r')\n",
    "#xl = plt.xlabel(\"x (m)\")\n",
    "#yl = plt.ylabel(\"y (m)\")\n",
    "show()"
   ]
  },
  {
   "cell_type": "code",
   "execution_count": null,
   "metadata": {
    "collapsed": true
   },
   "outputs": [],
   "source": []
  }
 ],
 "metadata": {
  "kernelspec": {
   "display_name": "Python 2",
   "language": "python",
   "name": "python2"
  },
  "language_info": {
   "codemirror_mode": {
    "name": "ipython",
    "version": 2
   },
   "file_extension": ".py",
   "mimetype": "text/x-python",
   "name": "python",
   "nbconvert_exporter": "python",
   "pygments_lexer": "ipython2",
   "version": "2.7.9"
  }
 },
 "nbformat": 4,
 "nbformat_minor": 0
}
