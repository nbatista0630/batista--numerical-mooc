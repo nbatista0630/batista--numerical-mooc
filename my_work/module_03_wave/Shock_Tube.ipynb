{
 "cells": [
  {
   "cell_type": "code",
   "execution_count": null,
   "metadata": {
    "collapsed": true
   },
   "outputs": [],
   "source": [
    "%matplotlib inline\n",
    "import numpy as np\n",
    "import matplotlib.pyplot as plt\n",
    "from matplotlib import animation\n",
    "from JSAnimation.IPython_display import display_animation"
   ]
  },
  {
   "cell_type": "code",
   "execution_count": null,
   "metadata": {
    "collapsed": true
   },
   "outputs": [],
   "source": [
    "#####Build Tube Space#####\n",
    "nx=81       #total number of indices\n",
    "x_L=-10     #coordinate of left side of tube (m), high pressure side\n",
    "x_R=10      #coordinate of right side of tube (m), low pressure side\n",
    "dx=0.25     #spacial step length (m)\n",
    "dt=0.0002   #time step length (s)\n",
    "gamma=1.4   #adiabatic index for air model (based on ratio of specific heats)\n",
    "t_f=0.01    #time duration (s), Calculation of p, rho, & v in shock tube at t=t_f\n",
    "x=numpy.linspace(x_L,x_R,nx)"
   ]
  },
  {
   "cell_type": "code",
   "execution_count": null,
   "metadata": {
    "collapsed": true
   },
   "outputs": [],
   "source": [
    "#####Define Initial Conditions#####\n",
    "rho_L0=1.0       #(kg/m^3), initial density, left side\n",
    "u_L0=0.0         #(m/s), initial air velocity, left side\n",
    "p_L0=100000.0    #(N/m^2), initial pressure, left side\n",
    "rho_R0=0.125     #(kg/m^3), initial density, right side\n",
    "u_R0=0.0         #(m/s), initial air velocity, right side\n",
    "p_R0=10000.0     #(N/m^2), initial pressure, right side\n",
    "\n",
    "def u_initial():\n",
    "    u=numpy.zeros(nx)\n",
    "    bn=nx-numpy.round(nx/2)-1\n",
    "    u[0:bn]=1\n",
    "    return u\n",
    "\n",
    "nt=70\n",
    "def u_initial():\n",
    "    u=numpy.zeros(nx)\n",
    "    bn=nx-numpy.round(nx/2)-1\n",
    "    u[0:bn]=1\n",
    "    return u\n",
    "#This initializes u_initial as useable python expression\n",
    "computeF=lambda u:(u/2)**2\n",
    "def maccormack(u,nt,dt,dx):\n",
    "    un=numpy.zeros((nt,len(u)))\n",
    "    un[:]=u.copy()\n",
    "    ustar=u.copy()\n",
    "    \n",
    "    for n in range(1,nt):\n",
    "        F=computeF(u)\n",
    "        ustar[:-1]=u[:-1]-(dt/dx)*(F[1:]-F[:-1])\n",
    "        Fstar=computeF(ustar)\n",
    "        un[n,1:]=0.5*(u[1:]+ustar[1:]-(dt/dx)*(Fstar[1:]-Fstar[:-1]))\n",
    "        u=un[n].copy()\n",
    "    return un\n",
    "def animate(data):\n",
    "    x=numpy.linspace(0,4,nx)\n",
    "    y=data\n",
    "    line.set_data(x,y)\n",
    "    return line,\n",
    "u=u_initial()\n",
    "sigma=1\n",
    "dt=sigma*dx\n",
    "\n",
    "un=maccormack(u,nt,dt,dx)\n",
    "\n",
    "fig=plt.figure();\n",
    "ax=plt.axes(xlim=(0,4),ylim=(-0.5,2));\n",
    "line,=ax.plot([],[],lw=2);\n",
    "\n",
    "anim=animation.FuncAnimation(fig,animate,frames=un,interval=50)\n",
    "display_animation(anim,default_mode='once')"
   ]
  }
 ],
 "metadata": {
  "kernelspec": {
   "display_name": "Python 2",
   "language": "python",
   "name": "python2"
  },
  "language_info": {
   "codemirror_mode": {
    "name": "ipython",
    "version": 2
   },
   "file_extension": ".py",
   "mimetype": "text/x-python",
   "name": "python",
   "nbconvert_exporter": "python",
   "pygments_lexer": "ipython2",
   "version": "2.7.9"
  }
 },
 "nbformat": 4,
 "nbformat_minor": 0
}
