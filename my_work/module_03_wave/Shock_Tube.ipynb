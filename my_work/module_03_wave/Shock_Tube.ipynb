{
 "cells": [
  {
   "cell_type": "code",
   "execution_count": null,
   "metadata": {
    "collapsed": true
   },
   "outputs": [],
   "source": [
    "%matplotlib inline\n",
    "import numpy\n",
    "import matplotlib.pyplot as plt\n",
    "from matplotlib import animation\n",
    "from JSAnimation.IPython_display import display_animation\n",
    "nx=81 #total number of indices\n",
    "dx=4.0/(nx-1)\n",
    "nt=70\n",
    "def u_initial():\n",
    "    u=numpy.zeros(nx)\n",
    "    bn=nx-numpy.round(nx/2)-1\n",
    "    u[0:bn]=1\n",
    "    return u\n",
    "#This initializes u_initial as useable python expression\n",
    "computeF=lambda u:(u/2)**2\n",
    "def maccormack(u,nt,dt,dx):\n",
    "    un=numpy.zeros((nt,len(u)))\n",
    "    un[:]=u.copy()\n",
    "    ustar=u.copy()\n",
    "    \n",
    "    for n in range(1,nt):\n",
    "        F=computeF(u)\n",
    "        ustar[:-1]=u[:-1]-(dt/dx)*(F[1:]-F[:-1])\n",
    "        Fstar=computeF(ustar)\n",
    "        un[n,1:]=0.5*(u[1:]+ustar[1:]-(dt/dx)*(Fstar[1:]-Fstar[:-1]))\n",
    "        u=un[n].copy()\n",
    "    return un\n",
    "def animate(data):\n",
    "    x=numpy.linspace(0,4,nx)\n",
    "    y=data\n",
    "    line.set_data(x,y)\n",
    "    return line,\n",
    "u=u_initial()\n",
    "sigma=1\n",
    "dt=sigma*dx\n",
    "\n",
    "un=maccormack(u,nt,dt,dx)\n",
    "\n",
    "fig=plt.figure();\n",
    "ax=plt.axes(xlim=(0,4),ylim=(-0.5,2));\n",
    "line,=ax.plot([],[],lw=2);\n",
    "\n",
    "anim=animation.FuncAnimation(fig,animate,frames=un,interval=50)\n",
    "display_animation(anim,default_mode='once')"
   ]
  },
  {
   "cell_type": "code",
   "execution_count": null,
   "metadata": {
    "collapsed": true
   },
   "outputs": [],
   "source": [
    "nx=81\n",
    "dx=0.25\n",
    "dt=0.0002\n",
    "gamma=1.4"
   ]
  }
 ],
 "metadata": {
  "kernelspec": {
   "display_name": "Python 2",
   "language": "python",
   "name": "python2"
  },
  "language_info": {
   "codemirror_mode": {
    "name": "ipython",
    "version": 2
   },
   "file_extension": ".py",
   "mimetype": "text/x-python",
   "name": "python",
   "nbconvert_exporter": "python",
   "pygments_lexer": "ipython2",
   "version": "2.7.9"
  }
 },
 "nbformat": 4,
 "nbformat_minor": 0
}
