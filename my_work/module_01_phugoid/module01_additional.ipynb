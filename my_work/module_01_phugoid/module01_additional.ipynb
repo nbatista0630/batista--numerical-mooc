{
 "cells": [
  {
   "cell_type": "code",
   "execution_count": 2,
   "metadata": {
    "collapsed": false
   },
   "outputs": [
    {
     "name": "stdout",
     "output_type": "stream",
     "text": [
      "6.2619047619\n"
     ]
    }
   ],
   "source": [
    "import numpy as np\n",
    "x=np.linspace(4,23,43)\n",
    "print x[5]"
   ]
  },
  {
   "cell_type": "code",
   "execution_count": 5,
   "metadata": {
    "collapsed": false
   },
   "outputs": [
    {
     "name": "stdout",
     "output_type": "stream",
     "text": [
      "5\n",
      "5\n",
      "17\n"
     ]
    }
   ],
   "source": [
    "ones_array=np.ones((5,17))\n",
    "zeros_array=np.zeros(ones_array.shape)\n",
    "print len(zeros_array)\n",
    "print len(zeros_array[:,1]) #check number of rows\n",
    "print len(zeros_array[1,:]) #check number of columns"
   ]
  },
  {
   "cell_type": "code",
   "execution_count": 12,
   "metadata": {
    "collapsed": false
   },
   "outputs": [
    {
     "name": "stdout",
     "output_type": "stream",
     "text": [
      "0.990091009642\n"
     ]
    }
   ],
   "source": [
    "p=7\n",
    "r=np.array([11.2,4.7,6.6])\n",
    "compute=np.sin(p/r)**3\n",
    "print compute[1]"
   ]
  },
  {
   "cell_type": "code",
   "execution_count": null,
   "metadata": {
    "collapsed": true
   },
   "outputs": [],
   "source": []
  }
 ],
 "metadata": {
  "kernelspec": {
   "display_name": "Python 2",
   "language": "python",
   "name": "python2"
  },
  "language_info": {
   "codemirror_mode": {
    "name": "ipython",
    "version": 2
   },
   "file_extension": ".py",
   "mimetype": "text/x-python",
   "name": "python",
   "nbconvert_exporter": "python",
   "pygments_lexer": "ipython2",
   "version": "2.7.9"
  }
 },
 "nbformat": 4,
 "nbformat_minor": 0
}
