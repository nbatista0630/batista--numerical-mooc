{
 "cells": [
  {
   "cell_type": "code",
   "execution_count": 12,
   "metadata": {
    "collapsed": true
   },
   "outputs": [],
   "source": [
    "import numpy                       \n",
    "from matplotlib import pyplot                 \n",
    "%matplotlib inline\n",
    "from matplotlib import rcParams\n",
    "rcParams['font.family'] = 'serif'\n",
    "rcParams['font.size'] = 16"
   ]
  },
  {
   "cell_type": "code",
   "execution_count": 10,
   "metadata": {
    "collapsed": false
   },
   "outputs": [],
   "source": [
    "####Input Parameters####\n",
    "v_max=80.    #km/hr, Max limit of traffic velocity as traffic density approaches zero\n",
    "L=11.        #km, Length of road\n",
    "rho_max=250. #cars/km, Maximum traffic density, bumper-to-bumper\n",
    "nx=51.       #devaitions, Resolution of grid\n",
    "dt=0.001    #hours, time step\n",
    "####Convert to Proper Units####\n",
    "v_max=v_max*1000/3600    #meters/second\n",
    "L=L*1000                #meters\n",
    "rho_max=rho_max/1000    #cars/meter\n",
    "dt=dt*3600"
   ]
  },
  {
   "cell_type": "code",
   "execution_count": 19,
   "metadata": {
    "collapsed": false
   },
   "outputs": [
    {
     "data": {
      "image/png": "[encoded data removed]",
      "text/plain": [
       "<matplotlib.figure.Figure at 0xa9ce4e0>"
      ]
     },
     "metadata": {},
     "output_type": "display_data"
    }
   ],
   "source": [
    "####Initial Conditions for Traffic Density####\n",
    "x=numpy.linspace(0,L,nx)  #Create non-dimensional time step array\n",
    "rho0=numpy.ones(nx)*10    #\n",
    "rho0[10:20]=50            #Initial conditions\n",
    "####Plotting Initial Conditions####\n",
    "pyplot.plot(x,rho0,color='#003366',ls='--',lw=3)\n",
    "pyplot.xlim(0,11);\n",
    "pyplot.ylim(0,60);"
   ]
  },
  {
   "cell_type": "code",
   "execution_count": null,
   "metadata": {
    "collapsed": true
   },
   "outputs": [],
   "source": []
  },
  {
   "cell_type": "code",
   "execution_count": null,
   "metadata": {
    "collapsed": true
   },
   "outputs": [],
   "source": [
    "for n in range(1,nt):\n",
    "    un=u.copy()\n",
    "    for i in range(1,nx):\n",
    "        u[i]=un[i]-c*dt/dx*(un[i]-un[i-1])\n",
    "\n",
    "pyplot.plot(x,u,color='#003366',ls='--',lw=3)\n",
    "pyplot.ylim(0,2.5);"
   ]
  }
 ],
 "metadata": {
  "kernelspec": {
   "display_name": "Python 2",
   "language": "python",
   "name": "python2"
  },
  "language_info": {
   "codemirror_mode": {
    "name": "ipython",
    "version": 2
   },
   "file_extension": ".py",
   "mimetype": "text/x-python",
   "name": "python",
   "nbconvert_exporter": "python",
   "pygments_lexer": "ipython2",
   "version": "2.7.9"
  }
 },
 "nbformat": 4,
 "nbformat_minor": 0
}
