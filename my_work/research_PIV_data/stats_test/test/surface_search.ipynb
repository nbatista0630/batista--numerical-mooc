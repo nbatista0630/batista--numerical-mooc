{
 "cells": [
  {
   "cell_type": "code",
   "execution_count": null,
   "metadata": {
    "collapsed": true
   },
   "outputs": [],
   "source": [
    "#This code identifies the first index where the mask is defined in each\n",
    "#column (index of first instance of largest value in each column). This indicates the location of the surface in pixels\n",
    "#relative to the top edge of the image"
   ]
  },
  {
   "cell_type": "code",
   "execution_count": 7,
   "metadata": {
    "collapsed": false
   },
   "outputs": [],
   "source": [
    "import numpy as np\n",
    "import pandas \n",
    "import glob\n",
    "\n",
    "mask_list=glob.glob(\"mask_r3_1_*****.txt\")\n",
    "\n",
    "with open('mask_index_r3_1.txt','w') as outfile:\n",
    "    for i in mask_list:\n",
    "        df=pandas.read_csv(open(i,'r'),header=None, delim_whitespace=True, skiprows=0)\n",
    "        a=np.array(df)\n",
    "        b=a.T\n",
    "        indx=np.argmax(b,axis=1)\n",
    "        #print(b)\n",
    "        outfile.write('%s' % indx + '\\n')"
   ]
  },
  {
   "cell_type": "code",
   "execution_count": 9,
   "metadata": {
    "collapsed": false
   },
   "outputs": [
    {
     "data": {
      "text/plain": [
       "(1199L,)"
      ]
     },
     "execution_count": 9,
     "metadata": {},
     "output_type": "execute_result"
    }
   ],
   "source": [
    "np.shape(indx)"
   ]
  },
  {
   "cell_type": "code",
   "execution_count": null,
   "metadata": {
    "collapsed": true
   },
   "outputs": [],
   "source": []
  }
 ],
 "metadata": {
  "kernelspec": {
   "display_name": "Python 2",
   "language": "python",
   "name": "python2"
  },
  "language_info": {
   "codemirror_mode": {
    "name": "ipython",
    "version": 2
   },
   "file_extension": ".py",
   "mimetype": "text/x-python",
   "name": "python",
   "nbconvert_exporter": "python",
   "pygments_lexer": "ipython2",
   "version": "2.7.9"
  }
 },
 "nbformat": 4,
 "nbformat_minor": 0
}
