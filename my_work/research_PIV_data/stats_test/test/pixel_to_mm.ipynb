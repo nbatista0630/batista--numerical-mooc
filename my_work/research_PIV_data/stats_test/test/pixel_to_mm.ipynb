{
 "cells": [
  {
   "cell_type": "code",
   "execution_count": 74,
   "metadata": {
    "collapsed": false
   },
   "outputs": [
    {
     "name": "stdout",
     "output_type": "stream",
     "text": [
      "(859, 1303)\n",
      "(8, 5)\n",
      "(859, 1199)\n"
     ]
    }
   ],
   "source": [
    "import numpy as np\n",
    "import pandas\n",
    "\n",
    "df=pandas.read_csv(open('B00001.txt','r'),header=None, delim_whitespace=True, skiprows=1)\n",
    "df1=pandas.read_csv(open('sample.txt','r'),header=None, delim_whitespace=True, skiprows=0)\n",
    "df2=pandas.read_csv(open('mask_r3_1_00001.txt','r'),header=None, delim_whitespace=True, skiprows=0)\n",
    "pre=np.array(df2)\n",
    "print(np.shape(df))\n",
    "print(np.shape(df1))\n",
    "print(np.shape(df2))"
   ]
  },
  {
   "cell_type": "code",
   "execution_count": 75,
   "metadata": {
    "collapsed": false
   },
   "outputs": [
    {
     "name": "stdout",
     "output_type": "stream",
     "text": [
      "[[0 0 0 ..., 0 0 0]\n",
      " [0 0 0 ..., 0 0 0]\n",
      " [0 0 0 ..., 0 0 0]\n",
      " ..., \n",
      " [1 1 1 ..., 1 1 1]\n",
      " [1 1 1 ..., 1 1 1]\n",
      " [1 1 1 ..., 1 1 1]]\n"
     ]
    }
   ],
   "source": [
    "print(pre[:,:])"
   ]
  },
  {
   "cell_type": "code",
   "execution_count": 76,
   "metadata": {
    "collapsed": false
   },
   "outputs": [],
   "source": [
    "build_y=np.empty_like(pre)\n",
    "\n"
   ]
  },
  {
   "cell_type": "code",
   "execution_count": 78,
   "metadata": {
    "collapsed": false
   },
   "outputs": [
    {
     "ename": "SyntaxError",
     "evalue": "invalid syntax (<ipython-input-78-8eb759c75025>, line 8)",
     "output_type": "error",
     "traceback": [
      "\u001b[1;36m  File \u001b[1;32m\"<ipython-input-78-8eb759c75025>\"\u001b[1;36m, line \u001b[1;32m8\u001b[0m\n\u001b[1;33m    build_y=format(build_y[,],'.5f')\u001b[0m\n\u001b[1;37m                           ^\u001b[0m\n\u001b[1;31mSyntaxError\u001b[0m\u001b[1;31m:\u001b[0m invalid syntax\n"
     ]
    }
   ],
   "source": [
    "factor=0.00965779 #Scale (mm/pixel)\n",
    "offset_x=-3.83373 #x-coordinate in mm of origin (bottom left)\n",
    "offset_y=4.36377  #y-coordinate in mm of origin (top left)\n",
    "count=1\n",
    "itera_row=np.arange(0,len(pre[0,:]))\n",
    "itera_column=np.arange(0,len(pre[:,0]))\n",
    "build_y[0,0]=offset_y-factor*(count-1)\n",
    "\n",
    "#build_y=format(build_y[,],'.5f')\n",
    "#for i in build_y:\n",
    "#    build_y[0,i]=offset_y-factor*(count-1)\n",
    "#    count=count+1"
   ]
  },
  {
   "cell_type": "code",
   "execution_count": 72,
   "metadata": {
    "collapsed": false
   },
   "outputs": [
    {
     "name": "stdout",
     "output_type": "stream",
     "text": [
      "[   0    1    2 ..., 1196 1197 1198]\n",
      "4.00000\n"
     ]
    }
   ],
   "source": [
    "print(i)\n",
    "print(build_y)"
   ]
  },
  {
   "cell_type": "code",
   "execution_count": null,
   "metadata": {
    "collapsed": true
   },
   "outputs": [],
   "source": []
  }
 ],
 "metadata": {
  "kernelspec": {
   "display_name": "Python 3",
   "language": "python",
   "name": "python3"
  },
  "language_info": {
   "codemirror_mode": {
    "name": "ipython",
    "version": 3
   },
   "file_extension": ".py",
   "mimetype": "text/x-python",
   "name": "python",
   "nbconvert_exporter": "python",
   "pygments_lexer": "ipython3",
   "version": "3.4.3"
  }
 },
 "nbformat": 4,
 "nbformat_minor": 0
}
