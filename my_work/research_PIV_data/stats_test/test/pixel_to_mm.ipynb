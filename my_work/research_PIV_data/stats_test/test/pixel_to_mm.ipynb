{
 "cells": [
  {
   "cell_type": "code",
   "execution_count": null,
   "metadata": {
    "collapsed": true
   },
   "outputs": [],
   "source": [
    "#This code creates array of y and array of x values matching mask \n",
    "#using mm values corresponding to those shown in DaVis\n",
    "#Pull factor, offset_x, offset_y from DaVis scaling section\n",
    "#\n",
    "\n",
    "##Needs to be iterated!"
   ]
  },
  {
   "cell_type": "code",
   "execution_count": null,
   "metadata": {
    "collapsed": false
   },
   "outputs": [],
   "source": [
    "import numpy as np\n",
    "import pandas\n",
    "np.set_printoptions(threshold=np.nan)\n",
    "\n",
    "df=pandas.read_csv(open('B00001.txt','r'),header=None, delim_whitespace=True, skiprows=0)\n",
    "pre=np.array(df)\n",
    "#print(np.shape(df))\n",
    "################################################################\n",
    "#Input\n",
    "factor=0.00965779 #Scale (mm/pixel)\n",
    "offset_x=-3.83373 #x-coordinate in mm of origin (bottom left)\n",
    "offset_y=4.36377  #y-coordinate in mm of origin (top left)\n",
    "count=1\n",
    "size=np.shape(pre)\n",
    "row_count=size[0]\n",
    "column_count=size[1]\n",
    "################################################################\n",
    "#Y-array Build\n",
    "itera_column=np.arange(0,len(pre[:,0]),dtype=int)\n",
    "count_y=itera_column\n",
    "build_y=np.empty([row_count,1],dtype=np.float64)\n",
    "for i in itera_column & count_y:\n",
    "    build_y[itera_column,0]=offset_y-factor*(count_y)\n",
    "\n",
    "y_mask_1=build_y.T\n",
    "y_mask_2=np.array([build_y,]*column_count)\n",
    "y_mask_f=y_mask_2.T\n",
    "################################################################\n",
    "#X-array Build\n",
    "itera_row=np.arange(0,len(pre[0,:]),dtype=int)\n",
    "count_x=itera_row\n",
    "build_x=np.empty([1,column_count],dtype=np.float64)\n",
    "for j in itera_row & count_x:\n",
    "    build_x[0,itera_row]=offset_x+factor*(count_x)\n",
    "\n",
    "x_mask_f=np.array([build_x,]*row_count)\n",
    "################################################################\n",
    "#Output to .txt\n",
    "\n",
    "#with open('mask_yc.txt','w') as out_y:\n",
    "#    out_y.write(np.array2string(y_mask_f))\n",
    "\n",
    "#np.savetxt('mask_yc.txt',y_mask_f)\n",
    "#np.savetxt('mask_xc.txt',x_mask_f)\n",
    "#print(y_mask_f)\n",
    "#print(x_mask_f)"
   ]
  },
  {
   "cell_type": "code",
   "execution_count": null,
   "metadata": {
    "collapsed": false
   },
   "outputs": [],
   "source": [
    "#np.savetxt('mask_yc.txt',np.array2string(y_mask_f))"
   ]
  },
  {
   "cell_type": "code",
   "execution_count": null,
   "metadata": {
    "collapsed": true
   },
   "outputs": [],
   "source": []
  }
 ],
 "metadata": {
  "kernelspec": {
   "display_name": "Python 3",
   "language": "python",
   "name": "python3"
  },
  "language_info": {
   "codemirror_mode": {
    "name": "ipython",
    "version": 3
   },
   "file_extension": ".py",
   "mimetype": "text/x-python",
   "name": "python",
   "nbconvert_exporter": "python",
   "pygments_lexer": "ipython3",
   "version": "3.4.3"
  }
 },
 "nbformat": 4,
 "nbformat_minor": 0
}
