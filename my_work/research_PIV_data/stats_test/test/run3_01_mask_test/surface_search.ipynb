{
 "cells": [
  {
   "cell_type": "code",
   "execution_count": null,
   "metadata": {
    "collapsed": true
   },
   "outputs": [],
   "source": [
    "#This code identifies the first index where the mask is defined in each\n",
    "#column (index of first instance of largest value in each column). This indicates the location of the surface in pixels\n",
    "#relative to the top edge of the image"
   ]
  },
  {
   "cell_type": "code",
   "execution_count": 24,
   "metadata": {
    "collapsed": false
   },
   "outputs": [],
   "source": [
    "import numpy as np\n",
    "import pandas \n",
    "import glob\n",
    "\n",
    "mask_list=glob.glob(\"B*****.txt\")\n",
    "np.set_printoptions(threshold=np.nan)\n",
    "j=1\n",
    "for i in mask_list:\n",
    "    with open('mask_index_r3_B{}.txt'.format(\"%05d\" % j),'w') as outfile:\n",
    "        #for i in mask_list:\n",
    "        df=pandas.read_csv(open(i,'r'),header=None, delim_whitespace=True, skiprows=1)\n",
    "        a=np.array(df)\n",
    "        b=a.T\n",
    "        indx=np.argmax(b,axis=1)\n",
    "        #print(b)\n",
    "        outfile.write('%s' % indx + '\\n')\n",
    "        j=j+1"
   ]
  },
  {
   "cell_type": "code",
   "execution_count": 9,
   "metadata": {
    "collapsed": false
   },
   "outputs": [
    {
     "data": {
      "text/plain": [
       "(1199L,)"
      ]
     },
     "execution_count": 9,
     "metadata": {},
     "output_type": "execute_result"
    }
   ],
   "source": [
    "np.shape(indx)"
   ]
  },
  {
   "cell_type": "code",
   "execution_count": null,
   "metadata": {
    "collapsed": true
   },
   "outputs": [],
   "source": []
  }
 ],
 "metadata": {
  "kernelspec": {
   "display_name": "Python 3",
   "language": "python",
   "name": "python3"
  },
  "language_info": {
   "codemirror_mode": {
    "name": "ipython",
    "version": 3
   },
   "file_extension": ".py",
   "mimetype": "text/x-python",
   "name": "python",
   "nbconvert_exporter": "python",
   "pygments_lexer": "ipython3",
   "version": "3.4.3"
  }
 },
 "nbformat": 4,
 "nbformat_minor": 0
}
