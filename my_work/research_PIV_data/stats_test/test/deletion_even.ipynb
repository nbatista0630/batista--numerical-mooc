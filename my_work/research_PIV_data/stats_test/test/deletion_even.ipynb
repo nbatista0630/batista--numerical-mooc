{
 "cells": [
  {
   "cell_type": "code",
   "execution_count": 5,
   "metadata": {
    "collapsed": false
   },
   "outputs": [
    {
     "name": "stdout",
     "output_type": "stream",
     "text": [
      "[ 2  4  6  8 10]\n"
     ]
    }
   ],
   "source": [
    "import os\n",
    "import glob\n",
    "import numpy as np\n",
    "\n",
    "filelist=glob.glob('B*****.txt')\n",
    "number=np.arange(1,len(filelist)+1)\n",
    "even=number[1::2]\n",
    "print(even)\n",
    "\n",
    "for f in filelist:\n",
    "    if f in even:\n",
    "        os.remove(filelist[f])"
   ]
  },
  {
   "cell_type": "code",
   "execution_count": null,
   "metadata": {
    "collapsed": true
   },
   "outputs": [],
   "source": [
    "#for f in filelist:\n",
    "#    if filelist[f]==even[f]:\n",
    "#        os.remove(filelist[even])\n",
    "#for f[even] in filelist:\n",
    "#    os.remove(f)"
   ]
  }
 ],
 "metadata": {
  "kernelspec": {
   "display_name": "Python 3",
   "language": "python",
   "name": "python3"
  },
  "language_info": {
   "codemirror_mode": {
    "name": "ipython",
    "version": 3
   },
   "file_extension": ".py",
   "mimetype": "text/x-python",
   "name": "python",
   "nbconvert_exporter": "python",
   "pygments_lexer": "ipython3",
   "version": "3.4.3"
  }
 },
 "nbformat": 4,
 "nbformat_minor": 0
}
