{
 "cells": [
  {
   "cell_type": "code",
   "execution_count": 3,
   "metadata": {
    "collapsed": false
   },
   "outputs": [],
   "source": [
    "import glob\n",
    "i=1\n",
    "for file in glob.glob(\"B*****.txt\"):\n",
    "    f=open(file,'r').readlines()\n",
    "    open('PIVr1_1_{}.txt'.format(\"%05d\" % i),'w').writelines(f[2215:-164])\n",
    "    i=i+1\n",
    "    \n",
    "\n",
    "#path = 'C:\\Users\\Nick\\Documents\\GitHub\\AeroPython\\BATISTA_NICHOLAS\\test\\*.txt'   \n",
    "#files=glob.glob(path)\n",
    "#for file in files:\n",
    "#    print file\n",
    "    \n",
    "#for file in files:  \n",
    " #   f=open(file, 'r')  \n",
    " #   f.readlines()\n",
    "  #  open('newfile.txt','w').writelines(line[2215:-164])\n",
    "   # f.close() \n",
    "    \n",
    "#import os\n",
    "#for i in os.listdir(os.getcwd()):\n",
    "#    if i.endswith(\".txt\"):\n",
    "#        \"\"\n",
    "#        continue\n",
    "#    else:\n",
    "#        continue\n",
    "\n",
    "\n",
    "#line=open('textfile.txt').readlines()\n",
    "#open('newfile.txt', 'w').writelines(line[1:-164])\n",
    "\n",
    "#import numpy\n",
    "#import math\n",
    "#from matplotlib import pyplot\n",
    "\n",
    "\n",
    "#numpy.loadtxt(\"resources/NACA0012_sigma.txt\")"
   ]
  },
  {
   "cell_type": "code",
   "execution_count": null,
   "metadata": {
    "collapsed": true
   },
   "outputs": [],
   "source": []
  }
 ],
 "metadata": {
  "kernelspec": {
   "display_name": "Python 2",
   "language": "python",
   "name": "python2"
  },
  "language_info": {
   "codemirror_mode": {
    "name": "ipython",
    "version": 2
   },
   "file_extension": ".py",
   "mimetype": "text/x-python",
   "name": "python",
   "nbconvert_exporter": "python",
   "pygments_lexer": "ipython2",
   "version": "2.7.9"
  }
 },
 "nbformat": 4,
 "nbformat_minor": 0
}
