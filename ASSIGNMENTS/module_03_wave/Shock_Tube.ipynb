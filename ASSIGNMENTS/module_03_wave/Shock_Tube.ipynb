{
 "cells": [
  {
   "cell_type": "markdown",
   "metadata": {},
   "source": [
    "###Sod's Shock Tube: Reconfigurable, Two-Chamber, Shock Tube Analysis\n",
    "#####Nicholas Batista  ---  11/10/2015"
   ]
  },
  {
   "cell_type": "code",
   "execution_count": null,
   "metadata": {
    "collapsed": true
   },
   "outputs": [],
   "source": [
    "#Configurable Variables, as defined below:\n",
    "#gamma\n",
    "#dt & t_f\n",
    "#nx, x_L, & x_R\n",
    "#rel_membrane\n",
    "#rho_L0 & rho_R0\n",
    "#u_L0 & u_R0\n",
    "#p_L0 & p_R0"
   ]
  },
  {
   "cell_type": "code",
   "execution_count": 1,
   "metadata": {
    "collapsed": false
   },
   "outputs": [
    {
     "ename": "ImportError",
     "evalue": "No module named JSAnimation.IPython_display",
     "output_type": "error",
     "traceback": [
      "\u001b[1;31m---------------------------------------------------------------------------\u001b[0m",
      "\u001b[1;31mImportError\u001b[0m                               Traceback (most recent call last)",
      "\u001b[1;32m<ipython-input-1-2160943dd05a>\u001b[0m in \u001b[0;36m<module>\u001b[1;34m()\u001b[0m\n\u001b[0;32m      3\u001b[0m \u001b[1;32mimport\u001b[0m \u001b[0mmatplotlib\u001b[0m\u001b[1;33m.\u001b[0m\u001b[0mpyplot\u001b[0m \u001b[1;32mas\u001b[0m \u001b[0mplt\u001b[0m\u001b[1;33m\u001b[0m\u001b[0m\n\u001b[0;32m      4\u001b[0m \u001b[1;32mfrom\u001b[0m \u001b[0mmatplotlib\u001b[0m \u001b[1;32mimport\u001b[0m \u001b[0manimation\u001b[0m\u001b[1;33m\u001b[0m\u001b[0m\n\u001b[1;32m----> 5\u001b[1;33m \u001b[1;32mfrom\u001b[0m \u001b[0mJSAnimation\u001b[0m\u001b[1;33m.\u001b[0m\u001b[0mIPython_display\u001b[0m \u001b[1;32mimport\u001b[0m \u001b[0mdisplay_animation\u001b[0m\u001b[1;33m\u001b[0m\u001b[0m\n\u001b[0m",
      "\u001b[1;31mImportError\u001b[0m: No module named JSAnimation.IPython_display"
     ]
    }
   ],
   "source": [
    "%matplotlib inline\n",
    "import numpy as np\n",
    "import matplotlib.pyplot as plt\n",
    "from matplotlib import animation\n",
    "from JSAnimation.IPython_display import display_animation"
   ]
  },
  {
   "cell_type": "code",
   "execution_count": 2,
   "metadata": {
    "collapsed": false
   },
   "outputs": [],
   "source": [
    "##########################\n",
    "#####Test Definitions#####\n",
    "##########################\n",
    "#what? when?\n",
    "\n",
    "gamma=1.4  #adiabatic index for air model (based on ratio of specific heats)\n",
    "dt=0.0002  #time step length (s)\n",
    "t_f=0.01   #time duration (s), Calculation of p, rho, & v in shock tube at t=t_f\n",
    "nt=np.int(t_f/dt)"
   ]
  },
  {
   "cell_type": "code",
   "execution_count": 3,
   "metadata": {
    "collapsed": false
   },
   "outputs": [],
   "source": [
    "##########################\n",
    "#####Build Tube Space#####\n",
    "##########################\n",
    "#where?\n",
    "\n",
    "nx=81      #total number of indices\n",
    "x_L=-10.0  #coordinate of left side of tube (m), high pressure side\n",
    "x_R=10.0   #coordinate of right side of tube (m), low pressure side\n",
    "\n",
    "x=np.linspace(x_L,x_R,nx)\n"
   ]
  },
  {
   "cell_type": "code",
   "execution_count": 4,
   "metadata": {
    "collapsed": false
   },
   "outputs": [],
   "source": [
    "########################\n",
    "#####Build Membrane#####\n",
    "########################\n",
    "#how?\n",
    "\n",
    "rel_membrane=0.5   #position of membrane relative to left side, normalized by total length\n",
    "\n",
    "chk=np.zeros_like(x)\n",
    "for i in range(nx):\n",
    "    chk[i]=round(x[i],4)\n",
    "dx=(x_R-x_L)/np.float(nx-1)            #spacial step length (m),0.25\n",
    "x_membrane=x_L+dx*np.round(nx*rel_membrane)\n",
    "x_membrane=round(x_membrane,4)\n",
    "\n",
    "indices=[i for i,j in enumerate(chk) if j>x_membrane]\n",
    "x_indx_membrane=indices[0]-1"
   ]
  },
  {
   "cell_type": "code",
   "execution_count": 5,
   "metadata": {
    "collapsed": false
   },
   "outputs": [
    {
     "data": {
      "text/plain": [
       "<matplotlib.collections.PolyCollection at 0xa4ad908>"
      ]
     },
     "execution_count": 5,
     "metadata": {},
     "output_type": "execute_result"
    },
    {
     "data": {
      "image/png": "[encoded data removed]",
      "text/plain": [
       "<matplotlib.figure.Figure at 0xa3b7898>"
      ]
     },
     "metadata": {},
     "output_type": "display_data"
    }
   ],
   "source": [
    "#######################################\n",
    "#####Visualize Shock_Tube Geometry#####\n",
    "#######################################\n",
    "\n",
    "#Assume tube is large enough to ingore viscous effects at walls\n",
    "#i.e., in cartesian coordinate system, where x-axis is along the length of the tube,\n",
    "#distributions of pressure, velocity, and density are uniform at each x-coordinate for all y- & z- coordinates\n",
    "pic=0.15*np.abs(x_R-x_L)\n",
    "b_L=x_L-pic\n",
    "b_R=x_R+pic\n",
    "\n",
    "tube=plt.plot((x_L,x_L),(-pic,pic),'k-',(x_L,x_R),(pic,pic),'k-',(x_R,x_R),(-pic,pic),'k-',(x_R,x_L),(-pic,-pic),'k-',(x_membrane,x_membrane),(-pic,pic),'#FDF5E6')\n",
    "plt.xlim(b_L,b_R)\n",
    "plt.ylim(-pic*(2.5),pic*(2.5))\n",
    "plt.setp(tube,linewidth=3.0)\n",
    "plt.fill_between((x_L,x_membrane),-pic,pic,facecolor='pink')\n",
    "plt.fill_between((x_membrane,x_R),-pic,pic,facecolor='#B0E0E6')"
   ]
  },
  {
   "cell_type": "code",
   "execution_count": 6,
   "metadata": {
    "collapsed": false
   },
   "outputs": [],
   "source": [
    "###########################################################################\n",
    "#####Define Initial Tube Conditions on Left and Right Side of Membrane#####\n",
    "###########################################################################\n",
    "rho_L0=1.0       #(kg/m^3), initial density, left side\n",
    "u_L0=0.0         #(m/s), initial air velocity, left side\n",
    "p_L0=100000.0    #(N/m^2), initial pressure, left side\n",
    "rho_R0=0.125     #(kg/m^3), initial density, right side\n",
    "u_R0=0.0         #(m/s), initial air velocity, right side\n",
    "p_R0=10000.0     #(N/m^2), initial pressure, right side\n",
    "\n",
    "#Conserved Variables, based on Euler's equations\n",
    "#p_0=(gamma-1)*rho_0*e_T\n",
    "#rho_0*e_T=p_0/(gamma-1)\n",
    "def u_initial(nx_inp):\n",
    "    \"\"\"\n",
    "    Input:\n",
    "    nx_inp-shape of tube space vector (pre-defined as nx)\n",
    "    \"\"\"\n",
    "    u=np.zeros((3,nx_inp))\n",
    "    \n",
    "    for i in range(nx_inp):\n",
    "        if i<x_indx_membrane:\n",
    "            u[0,i]=rho_L0\n",
    "            u[1,i]=rho_L0*u_L0\n",
    "            u[2,i]=p_L0/(gamma-1.0)\n",
    "        else:\n",
    "            u[0,i]=rho_R0\n",
    "            u[1,i]=rho_R0*u_R0\n",
    "            u[2,i]=p_R0/(gamma-1.0)\n",
    "    return u\n",
    "#Flux Vector, in terms of conserved variables\n",
    "def F_calc(u_in):\n",
    "    \"\"\"\n",
    "    Input:\n",
    "    u_in=output of u_initial()\n",
    "    \"\"\"\n",
    "    #Initialize\n",
    "    Fcalc=np.zeros_like(u_in)\n",
    "    #Populate\n",
    "    Fcalc[0,:]=u_in[1,:]\n",
    "    Fcalc[1,:]=((u_in[1,:]**2)/u_in[0,:]) + (gamma-1)*(u_in[2,:]-0.5*(u_in[1,:]**2)/u_in[0,:])\n",
    "    Fcalc[2,:]=(u_in[2,:]+(gamma-1)*(u_in[2,:]-0.5*(u_in[1,:]**2)/u_in[0,:]))*(u_in[1,:]/u_in[0,:])\n",
    "    return Fcalc"
   ]
  },
  {
   "cell_type": "code",
   "execution_count": 7,
   "metadata": {
    "collapsed": true
   },
   "outputs": [],
   "source": [
    "def richtmyer(u_initial,d_t,n_t,d_x,n_x):\n",
    "    \"\"\"\n",
    "    Input:\n",
    "    u_initial=u_0\n",
    "    d_t=dt\n",
    "    n_t=nt\n",
    "    d_x=dx\n",
    "    n_x=nx\n",
    "    \"\"\"  \n",
    "    #Initialize\n",
    "    un=np.zeros((n_t+1,3,n_x))\n",
    "    ustar=np.zeros((3,n_x))\n",
    "    U=np.zeros((3,n_x))\n",
    "    #Populate\n",
    "    un[:,:,:]=u_initial[:,:]\n",
    "    ustar[:,:]=u_initial[:,:]\n",
    "    U[:,:]=u_initial[:,:]\n",
    "    #\"Richtmyer is a Two-Step Method\"\n",
    "    for j in range(1,nt+1):\n",
    "        #Predictor\n",
    "        Fstar=F_calc(U)\n",
    "        ustar[:,:-1]=0.5*(U[:,1:]+U[:,:-1])-(d_t/(2*d_x))*(Fstar[:,1:]-Fstar[:,:-1])\n",
    "        #Corrector\n",
    "        F=F_calc(ustar) \n",
    "        un[j,:,1:-1]=U[:,1:-1]-(d_t/d_x)*(F[:,1:-1]-F[:,:-2])\n",
    "        U=un[j,:,:].copy()\n",
    "    return un[:,:,:]"
   ]
  },
  {
   "cell_type": "code",
   "execution_count": 8,
   "metadata": {
    "collapsed": false
   },
   "outputs": [],
   "source": [
    "############################\n",
    "#####Execute Simulation#####\n",
    "############################\n",
    "u_0=u_initial(nx)\n",
    "un_f=richtmyer(u_0,dt,nt,dx,nx)"
   ]
  },
  {
   "cell_type": "code",
   "execution_count": 9,
   "metadata": {
    "collapsed": true
   },
   "outputs": [],
   "source": [
    "##############################\n",
    "#####Visualize Simulation#####\n",
    "##############################\n",
    "\n",
    "#def animate(data):\n",
    "#    x=numpy.linspace(0,4,nx)\n",
    "#    y=data\n",
    "#    line.set_data(x,y)\n",
    "#    return line,\n",
    "#u=u_initial()\n",
    "#sigma=1\n",
    "#dt=sigma*dx\n",
    "\n",
    "#un=maccormack(u,nt,dt,dx)\n",
    "\n",
    "#fig=plt.figure();\n",
    "#ax=plt.axes(xlim=(0,4),ylim=(-0.5,2));\n",
    "#line,=ax.plot([],[],lw=2);\n",
    "\n",
    "#anim=animation.FuncAnimation(fig,animate,frames=un,interval=50)\n",
    "#display_animation(anim,default_mode='once')"
   ]
  },
  {
   "cell_type": "code",
   "execution_count": 10,
   "metadata": {
    "collapsed": true
   },
   "outputs": [],
   "source": [
    "############################\n",
    "#####Simulation Results#####\n",
    "############################\n",
    "#why?\n",
    "v_f=un_f[nt,1,50]/un_f[nt,0,50]\n",
    "p_f=(gamma-1)*(un_f[nt,2,50]-0.5*(un_f[nt,1,50]**2)/un_f[nt,0,50])\n",
    "rho_f=un_f[nt,0,50]"
   ]
  },
  {
   "cell_type": "code",
   "execution_count": 11,
   "metadata": {
    "collapsed": false
   },
   "outputs": [
    {
     "data": {
      "text/plain": [
       "292.61147152682651"
      ]
     },
     "execution_count": 11,
     "metadata": {},
     "output_type": "execute_result"
    }
   ],
   "source": [
    "v_f"
   ]
  },
  {
   "cell_type": "code",
   "execution_count": 12,
   "metadata": {
    "collapsed": false
   },
   "outputs": [
    {
     "data": {
      "text/plain": [
       "30250.89016757203"
      ]
     },
     "execution_count": 12,
     "metadata": {},
     "output_type": "execute_result"
    }
   ],
   "source": [
    "p_f"
   ]
  },
  {
   "cell_type": "code",
   "execution_count": 13,
   "metadata": {
    "collapsed": false
   },
   "outputs": [
    {
     "data": {
      "text/plain": [
       "0.3746914026476012"
      ]
     },
     "execution_count": 13,
     "metadata": {},
     "output_type": "execute_result"
    }
   ],
   "source": [
    "rho_f"
   ]
  },
  {
   "cell_type": "code",
   "execution_count": null,
   "metadata": {
    "collapsed": true
   },
   "outputs": [],
   "source": [
    "#calculate relative density compared to initial"
   ]
  }
 ],
 "metadata": {
  "kernelspec": {
   "display_name": "Python 2",
   "language": "python",
   "name": "python2"
  },
  "language_info": {
   "codemirror_mode": {
    "name": "ipython",
    "version": 2
   },
   "file_extension": ".py",
   "mimetype": "text/x-python",
   "name": "python",
   "nbconvert_exporter": "python",
   "pygments_lexer": "ipython2",
   "version": "2.7.9"
  }
 },
 "nbformat": 4,
 "nbformat_minor": 0
}
