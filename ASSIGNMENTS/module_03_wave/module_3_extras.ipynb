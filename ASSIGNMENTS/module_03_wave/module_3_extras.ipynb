{
 "cells": [
  {
   "cell_type": "code",
   "execution_count": 4,
   "metadata": {
    "collapsed": true
   },
   "outputs": [],
   "source": [
    "import sympy\n",
    "sympy.init_printing()\n",
    "\n",
    "u_max,u_star,rho_max,rho_star,A,B=sympy.symbols('u_max u_star rho_max rho_star A B')"
   ]
  },
  {
   "cell_type": "code",
   "execution_count": 5,
   "metadata": {
    "collapsed": true
   },
   "outputs": [],
   "source": [
    "eq1=sympy.Eq(0,u_max*rho_max*(1-A*rho_max-B*rho_max**2))\n",
    "eq2=sympy.Eq(0,u_max*(1 - 2*A*rho_star-3*B*rho_star**2))\n",
    "eq3=sympy.Eq(u_star,u_max*(1-A*rho_star-B*rho_star**2))\n",
    "eq4=sympy.Eq(eq2.lhs-3*eq3.lhs,eq2.rhs-3*eq3.rhs)\n",
    "\n",
    "rho_sol=sympy.solve(eq4,rho_star)[0]\n",
    "B_sol=sympy.solve(eq1,B)[0]\n",
    "quadA=eq2.subs([(rho_star,rho_sol),(B,B_sol)])\n",
    "A_sol=sympy.solve(quadA,A)"
   ]
  },
  {
   "cell_type": "code",
   "execution_count": 8,
   "metadata": {
    "collapsed": true
   },
   "outputs": [],
   "source": [
    "aval=A_sol[0].evalf(subs={u_star: 1.5,u_max:2.0,rho_max:15.0})\n",
    "bval=B_sol.evalf(subs={rho_max:15.0,A:aval})"
   ]
  },
  {
   "cell_type": "code",
   "execution_count": 9,
   "metadata": {
    "collapsed": false
   },
   "outputs": [
    {
     "data": {
      "image/png": "[encoded data removed]",
      "text/latex": [
       "$$0.0197690110272418$$"
      ],
      "text/plain": [
       "0.0197690110272418"
      ]
     },
     "execution_count": 9,
     "metadata": {},
     "output_type": "execute_result"
    }
   ],
   "source": [
    "aval"
   ]
  },
  {
   "cell_type": "code",
   "execution_count": 10,
   "metadata": {
    "collapsed": false
   },
   "outputs": [
    {
     "data": {
      "image/png": "[encoded data removed]",
      "text/latex": [
       "$$0.00312651037596166$$"
      ],
      "text/plain": [
       "0.00312651037596166"
      ]
     },
     "execution_count": 10,
     "metadata": {},
     "output_type": "execute_result"
    }
   ],
   "source": [
    "bval"
   ]
  },
  {
   "cell_type": "code",
   "execution_count": 16,
   "metadata": {
    "collapsed": false
   },
   "outputs": [
    {
     "data": {
      "text/plain": [
       "0.0"
      ]
     },
     "execution_count": 16,
     "metadata": {},
     "output_type": "execute_result"
    }
   ],
   "source": [
    "sympy.init_printing(use_latex=False)\n",
    "u_max=2.0\n",
    "rho_max=15.0\n",
    "u_star=1.5\n",
    "rho_star_1=-12.6369\n",
    "rho_star_2=6.32057\n"
   ]
  },
  {
   "cell_type": "code",
   "execution_count": null,
   "metadata": {
    "collapsed": false
   },
   "outputs": [],
   "source": []
  },
  {
   "cell_type": "code",
   "execution_count": null,
   "metadata": {
    "collapsed": true
   },
   "outputs": [],
   "source": []
  }
 ],
 "metadata": {
  "kernelspec": {
   "display_name": "Python 2",
   "language": "python",
   "name": "python2"
  },
  "language_info": {
   "codemirror_mode": {
    "name": "ipython",
    "version": 2
   },
   "file_extension": ".py",
   "mimetype": "text/x-python",
   "name": "python",
   "nbconvert_exporter": "python",
   "pygments_lexer": "ipython2",
   "version": "2.7.9"
  }
 },
 "nbformat": 4,
 "nbformat_minor": 0
}
