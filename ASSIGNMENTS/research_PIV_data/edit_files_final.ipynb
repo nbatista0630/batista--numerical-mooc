{
 "cells": [
  {
   "cell_type": "code",
   "execution_count": null,
   "metadata": {
    "collapsed": true
   },
   "outputs": [],
   "source": [
    "#This code processes all files in the same directory matching\n",
    "#the format B*****.txt. (Output from DaVis—B00001.txt for example)\n",
    "#This specific input removes the first 2215 lines and the \n",
    "#last 164 lines of each text file\n",
    "#Each frame (PIV pair) is output as a new file for averaging"
   ]
  },
  {
   "cell_type": "code",
   "execution_count": 3,
   "metadata": {
    "collapsed": false
   },
   "outputs": [],
   "source": [
    "import glob\n",
    "i=1\n",
    "for file in glob.glob(\"B*****.txt\"):\n",
    "    f=open(file,'r').readlines()\n",
    "    open('PIVr1_1_{}.txt'.format(\"%05d\" % i),'w').writelines(f[2215:-164])\n",
    "    i=i+1\n",
    "    \n",
    "\n",
    "#path = 'C:\\Users\\Nick\\Documents\\GitHub\\AeroPython\\BATISTA_NICHOLAS\\test\\*.txt'   \n",
    "#files=glob.glob(path)\n",
    "#for file in files:\n",
    "#    print file\n",
    "    \n",
    "#for file in files:  \n",
    " #   f=open(file, 'r')  \n",
    " #   f.readlines()\n",
    "  #  open('newfile.txt','w').writelines(line[2215:-164])\n",
    "   # f.close() \n",
    "    \n",
    "#import os\n",
    "#for i in os.listdir(os.getcwd()):\n",
    "#    if i.endswith(\".txt\"):\n",
    "#        \"\"\n",
    "#        continue\n",
    "#    else:\n",
    "#        continue\n",
    "\n",
    "\n",
    "#line=open('textfile.txt').readlines()\n",
    "#open('newfile.txt', 'w').writelines(line[1:-164])\n",
    "\n",
    "#import numpy\n",
    "#import math\n",
    "#from matplotlib import pyplot\n",
    "\n",
    "\n",
    "#numpy.loadtxt(\"resources/NACA0012_sigma.txt\")"
   ]
  },
  {
   "cell_type": "code",
   "execution_count": null,
   "metadata": {
    "collapsed": true
   },
   "outputs": [],
   "source": []
  }
 ],
 "metadata": {
  "kernelspec": {
   "display_name": "Python 3",
   "language": "python",
   "name": "python3"
  },
  "language_info": {
   "codemirror_mode": {
    "name": "ipython",
    "version": 3
   },
   "file_extension": ".py",
   "mimetype": "text/x-python",
   "name": "python",
   "nbconvert_exporter": "python",
   "pygments_lexer": "ipython3",
   "version": "3.4.3"
  }
 },
 "nbformat": 4,
 "nbformat_minor": 0
}
