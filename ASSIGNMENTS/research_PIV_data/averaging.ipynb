{
 "cells": [
  {
   "cell_type": "code",
   "execution_count": null,
   "metadata": {
    "collapsed": true
   },
   "outputs": [],
   "source": [
    "#This code averages the columns output by the\n",
    "#previous code (edit_files_final.py) (average u & v velocity for each \n",
    "#frame)\n",
    "#These average velocities are compiled into \n",
    "#one final text file"
   ]
  },
  {
   "cell_type": "code",
   "execution_count": 1,
   "metadata": {
    "collapsed": false
   },
   "outputs": [],
   "source": [
    "import glob\n",
    "import numpy as np\n",
    "\n",
    "d_list=glob.glob(\"PIVr1_1_*****.txt\")\n",
    "#d_list=glob.glob(\"test_*.txt\")\n",
    "with open('PIVr1_1_AVERAGES.txt','w') as outfile:\n",
    "    for fname in d_list:\n",
    "        with open(fname) as infile:\n",
    "            lines=[line.split() for line in infile]\n",
    "            Xvals, Yvals, Uvals, Vvals=zip(*lines)\n",
    "            #Uvals, Vvals=zip(*lines)\n",
    "            Uvals_true=np.array(Uvals).astype(np.float)\n",
    "            Vvals_true=np.array(Vvals).astype(np.float)\n",
    "            #UV_vals_true=np.sqrt((Uvals_true^2)+(Vvals_true^2))\n",
    "            av_u=np.mean(Uvals_true)\n",
    "            av_v=np.mean(Vvals_true)\n",
    "            \n",
    "            #av_uv=np.mean(UV_vals_true)\n",
    "            outfile.write('%s' % av_u)\n",
    "            outfile.write('\\t')\n",
    "            outfile.write('%s' % av_v + '\\n')"
   ]
  },
  {
   "cell_type": "code",
   "execution_count": null,
   "metadata": {
    "collapsed": true
   },
   "outputs": [],
   "source": []
  }
 ],
 "metadata": {
  "kernelspec": {
   "display_name": "Python 3",
   "language": "python",
   "name": "python3"
  },
  "language_info": {
   "codemirror_mode": {
    "name": "ipython",
    "version": 3
   },
   "file_extension": ".py",
   "mimetype": "text/x-python",
   "name": "python",
   "nbconvert_exporter": "python",
   "pygments_lexer": "ipython3",
   "version": "3.4.3"
  }
 },
 "nbformat": 4,
 "nbformat_minor": 0
}
