{
 "cells": [
  {
   "cell_type": "code",
   "execution_count": null,
   "metadata": {
    "collapsed": true
   },
   "outputs": [],
   "source": [
    "#This code removes certain columns from mask data\n",
    "#Reduces width of window"
   ]
  },
  {
   "cell_type": "code",
   "execution_count": null,
   "metadata": {
    "collapsed": true
   },
   "outputs": [],
   "source": [
    "#Must read length of original data set (number of columns)\n",
    "#to compare to final length after cutting\n",
    "## !!! Same, corresponding columns must be removed from PIV output data\n",
    "## need to relate array coordinates of mask (pixels)\n",
    "## to array coordinates of PIV velocity data!"
   ]
  },
  {
   "cell_type": "code",
   "execution_count": 1,
   "metadata": {
    "collapsed": false
   },
   "outputs": [],
   "source": [
    "import glob\n",
    "import os\n",
    "cut=104 #number of columns to remove from start\n",
    "#end=-10   #number of columns to remove from end (negative from RHS),\n",
    "            #need to edit after \"cut\" to use this parameter\n",
    "\n",
    "#Remove header line \n",
    "#(can be used to remove lines at start and end with \"writelines\")\n",
    "i=1\n",
    "for file in glob.glob(\"B*****.txt\"):\n",
    "    f=open(file,'r').readlines()\n",
    "    open('temp_{}.txt'.format(\"%05d\" % i),'w').writelines(f[1:])\n",
    "    i=i+1\n",
    "#Remove certain columns\n",
    "j=1\n",
    "for file1 in glob.glob(\"temp_*****.txt\"):\n",
    "    g=open(file1,'r').readlines()\n",
    "    h=open('mask_temp_{}.txt'.format(\"%05d\" % j),'w')\n",
    "    for line in g:\n",
    "        if line.strip():\n",
    "            h.write(\"\\t\".join(line.split()[cut:])+\"\\n\")\n",
    "        j=j+1\n",
    "    h.close()"
   ]
  },
  {
   "cell_type": "code",
   "execution_count": 2,
   "metadata": {
    "collapsed": false
   },
   "outputs": [],
   "source": [
    "#Delete all temporary files\n",
    "rmv_tmp=glob.glob(\"temp_*****.txt\")\n",
    "for k, f in enumerate(rmv_tmp):\n",
    "    os.remove(rmv_tmp[k])\n",
    "#Rename Output Mask Files to simplify count\n",
    "l=1\n",
    "for file2 in glob.glob(\"mask_temp_*****.txt\"):\n",
    "    os.rename(file2,'mask_r3_1_{}.txt'.format(\"%05d\" % l))\n",
    "    l=l+1"
   ]
  },
  {
   "cell_type": "code",
   "execution_count": null,
   "metadata": {
    "collapsed": true
   },
   "outputs": [],
   "source": []
  }
 ],
 "metadata": {
  "kernelspec": {
   "display_name": "Python 3",
   "language": "python",
   "name": "python3"
  },
  "language_info": {
   "codemirror_mode": {
    "name": "ipython",
    "version": 3
   },
   "file_extension": ".py",
   "mimetype": "text/x-python",
   "name": "python",
   "nbconvert_exporter": "python",
   "pygments_lexer": "ipython3",
   "version": "3.4.3"
  }
 },
 "nbformat": 4,
 "nbformat_minor": 0
}
